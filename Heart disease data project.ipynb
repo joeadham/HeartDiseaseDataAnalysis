{
 "cells": [
  {
   "cell_type": "markdown",
   "id": "4987deb8",
   "metadata": {},
   "source": [
    "# Importing the libraries and the datasheet"
   ]
  },
  {
   "cell_type": "code",
   "execution_count": 1,
   "id": "ce42dd35",
   "metadata": {},
   "outputs": [
    {
     "data": {
      "text/html": [
       "<div>\n",
       "<style scoped>\n",
       "    .dataframe tbody tr th:only-of-type {\n",
       "        vertical-align: middle;\n",
       "    }\n",
       "\n",
       "    .dataframe tbody tr th {\n",
       "        vertical-align: top;\n",
       "    }\n",
       "\n",
       "    .dataframe thead th {\n",
       "        text-align: right;\n",
       "    }\n",
       "</style>\n",
       "<table border=\"1\" class=\"dataframe\">\n",
       "  <thead>\n",
       "    <tr style=\"text-align: right;\">\n",
       "      <th></th>\n",
       "      <th>HeartDisease</th>\n",
       "      <th>BMI</th>\n",
       "      <th>Stroke</th>\n",
       "      <th>PhysicalHealth</th>\n",
       "      <th>MentalHealth</th>\n",
       "      <th>DiffWalking</th>\n",
       "      <th>Sex</th>\n",
       "      <th>AgeCategory</th>\n",
       "      <th>Race</th>\n",
       "      <th>Diabetic</th>\n",
       "      <th>PhysicalActivity</th>\n",
       "      <th>GenHealth</th>\n",
       "      <th>SleepTime</th>\n",
       "      <th>Asthma</th>\n",
       "      <th>KidneyDisease</th>\n",
       "      <th>SkinCancer</th>\n",
       "      <th>bad_habbits</th>\n",
       "    </tr>\n",
       "  </thead>\n",
       "  <tbody>\n",
       "    <tr>\n",
       "      <th>0</th>\n",
       "      <td>No</td>\n",
       "      <td>16.60</td>\n",
       "      <td>No</td>\n",
       "      <td>3.0</td>\n",
       "      <td>30.0</td>\n",
       "      <td>No</td>\n",
       "      <td>F</td>\n",
       "      <td>55-59</td>\n",
       "      <td>NaN</td>\n",
       "      <td>Yes</td>\n",
       "      <td>Yes</td>\n",
       "      <td>Very good</td>\n",
       "      <td>5.0</td>\n",
       "      <td>Yes</td>\n",
       "      <td>No</td>\n",
       "      <td>Yes</td>\n",
       "      <td>{'Smoking'  'Yes', 'AlcoholDrinking'  'No'}</td>\n",
       "    </tr>\n",
       "    <tr>\n",
       "      <th>1</th>\n",
       "      <td>No</td>\n",
       "      <td>20.34</td>\n",
       "      <td>Yes</td>\n",
       "      <td>0.0</td>\n",
       "      <td>0.0</td>\n",
       "      <td>No</td>\n",
       "      <td>F</td>\n",
       "      <td>80 or older</td>\n",
       "      <td>NaN</td>\n",
       "      <td>No</td>\n",
       "      <td>Yes</td>\n",
       "      <td>Very good</td>\n",
       "      <td>NaN</td>\n",
       "      <td>No</td>\n",
       "      <td>No</td>\n",
       "      <td>No</td>\n",
       "      <td>{'Smoking'  'No', 'AlcoholDrinking'  'No'}</td>\n",
       "    </tr>\n",
       "    <tr>\n",
       "      <th>2</th>\n",
       "      <td>No</td>\n",
       "      <td>26.58</td>\n",
       "      <td>No</td>\n",
       "      <td>20.0</td>\n",
       "      <td>30.0</td>\n",
       "      <td>No</td>\n",
       "      <td>Male</td>\n",
       "      <td>65-69</td>\n",
       "      <td>NaN</td>\n",
       "      <td>Yes</td>\n",
       "      <td>Yes</td>\n",
       "      <td>Fair</td>\n",
       "      <td>8.0</td>\n",
       "      <td>Yes</td>\n",
       "      <td>No</td>\n",
       "      <td>No</td>\n",
       "      <td>{'Smoking'  'Yes', 'AlcoholDrinking'  'No'}</td>\n",
       "    </tr>\n",
       "    <tr>\n",
       "      <th>3</th>\n",
       "      <td>No</td>\n",
       "      <td>24.21</td>\n",
       "      <td>No</td>\n",
       "      <td>0.0</td>\n",
       "      <td>0.0</td>\n",
       "      <td>No</td>\n",
       "      <td>F</td>\n",
       "      <td>75-79</td>\n",
       "      <td>NaN</td>\n",
       "      <td>No</td>\n",
       "      <td>No</td>\n",
       "      <td>Good</td>\n",
       "      <td>6.0</td>\n",
       "      <td>No</td>\n",
       "      <td>No</td>\n",
       "      <td>Yes</td>\n",
       "      <td>{'Smoking'  'No', 'AlcoholDrinking'  'No'}</td>\n",
       "    </tr>\n",
       "    <tr>\n",
       "      <th>4</th>\n",
       "      <td>No</td>\n",
       "      <td>23.71</td>\n",
       "      <td>No</td>\n",
       "      <td>28.0</td>\n",
       "      <td>0.0</td>\n",
       "      <td>Yes</td>\n",
       "      <td>F</td>\n",
       "      <td>40-44</td>\n",
       "      <td>NaN</td>\n",
       "      <td>No</td>\n",
       "      <td>Yes</td>\n",
       "      <td>Very good</td>\n",
       "      <td>8.0</td>\n",
       "      <td>No</td>\n",
       "      <td>No</td>\n",
       "      <td>No</td>\n",
       "      <td>{'Smoking'  'No', 'AlcoholDrinking'  'No'}</td>\n",
       "    </tr>\n",
       "    <tr>\n",
       "      <th>...</th>\n",
       "      <td>...</td>\n",
       "      <td>...</td>\n",
       "      <td>...</td>\n",
       "      <td>...</td>\n",
       "      <td>...</td>\n",
       "      <td>...</td>\n",
       "      <td>...</td>\n",
       "      <td>...</td>\n",
       "      <td>...</td>\n",
       "      <td>...</td>\n",
       "      <td>...</td>\n",
       "      <td>...</td>\n",
       "      <td>...</td>\n",
       "      <td>...</td>\n",
       "      <td>...</td>\n",
       "      <td>...</td>\n",
       "      <td>...</td>\n",
       "    </tr>\n",
       "    <tr>\n",
       "      <th>319790</th>\n",
       "      <td>Yes</td>\n",
       "      <td>27.41</td>\n",
       "      <td>No</td>\n",
       "      <td>7.0</td>\n",
       "      <td>0.0</td>\n",
       "      <td>Yes</td>\n",
       "      <td>M</td>\n",
       "      <td>60-64</td>\n",
       "      <td>Hispanic</td>\n",
       "      <td>Yes</td>\n",
       "      <td>No</td>\n",
       "      <td>Fair</td>\n",
       "      <td>6.0</td>\n",
       "      <td>Yes</td>\n",
       "      <td>No</td>\n",
       "      <td>No</td>\n",
       "      <td>{'Smoking'  'Yes', 'AlcoholDrinking'  'No'}</td>\n",
       "    </tr>\n",
       "    <tr>\n",
       "      <th>319791</th>\n",
       "      <td>No</td>\n",
       "      <td>29.84</td>\n",
       "      <td>No</td>\n",
       "      <td>0.0</td>\n",
       "      <td>0.0</td>\n",
       "      <td>No</td>\n",
       "      <td>M</td>\n",
       "      <td>NaN</td>\n",
       "      <td>Hispanic</td>\n",
       "      <td>No</td>\n",
       "      <td>Yes</td>\n",
       "      <td>Very good</td>\n",
       "      <td>5.0</td>\n",
       "      <td>Yes</td>\n",
       "      <td>No</td>\n",
       "      <td>No</td>\n",
       "      <td>{'Smoking'  'Yes', 'AlcoholDrinking'  'No'}</td>\n",
       "    </tr>\n",
       "    <tr>\n",
       "      <th>319792</th>\n",
       "      <td>No</td>\n",
       "      <td>24.24</td>\n",
       "      <td>No</td>\n",
       "      <td>0.0</td>\n",
       "      <td>0.0</td>\n",
       "      <td>No</td>\n",
       "      <td>Female</td>\n",
       "      <td>45-49</td>\n",
       "      <td>Hispanic</td>\n",
       "      <td>No</td>\n",
       "      <td>Yes</td>\n",
       "      <td>Good</td>\n",
       "      <td>6.0</td>\n",
       "      <td>No</td>\n",
       "      <td>No</td>\n",
       "      <td>No</td>\n",
       "      <td>{'Smoking'  'No', 'AlcoholDrinking'  'No'}</td>\n",
       "    </tr>\n",
       "    <tr>\n",
       "      <th>319793</th>\n",
       "      <td>No</td>\n",
       "      <td>32.81</td>\n",
       "      <td>No</td>\n",
       "      <td>0.0</td>\n",
       "      <td>0.0</td>\n",
       "      <td>No</td>\n",
       "      <td>Female</td>\n",
       "      <td>25-29</td>\n",
       "      <td>Hispanic</td>\n",
       "      <td>No</td>\n",
       "      <td>No</td>\n",
       "      <td>Good</td>\n",
       "      <td>12.0</td>\n",
       "      <td>No</td>\n",
       "      <td>No</td>\n",
       "      <td>No</td>\n",
       "      <td>{'Smoking'  'No', 'AlcoholDrinking'  'No'}</td>\n",
       "    </tr>\n",
       "    <tr>\n",
       "      <th>319794</th>\n",
       "      <td>No</td>\n",
       "      <td>46.56</td>\n",
       "      <td>No</td>\n",
       "      <td>0.0</td>\n",
       "      <td>0.0</td>\n",
       "      <td>No</td>\n",
       "      <td>Female</td>\n",
       "      <td>80 or older</td>\n",
       "      <td>Hispanic</td>\n",
       "      <td>No</td>\n",
       "      <td>Yes</td>\n",
       "      <td>Good</td>\n",
       "      <td>8.0</td>\n",
       "      <td>No</td>\n",
       "      <td>No</td>\n",
       "      <td>No</td>\n",
       "      <td>{'Smoking'  'No', 'AlcoholDrinking'  'No'}</td>\n",
       "    </tr>\n",
       "  </tbody>\n",
       "</table>\n",
       "<p>319795 rows × 17 columns</p>\n",
       "</div>"
      ],
      "text/plain": [
       "       HeartDisease    BMI Stroke  PhysicalHealth  MentalHealth DiffWalking  \\\n",
       "0                No  16.60     No             3.0          30.0          No   \n",
       "1                No  20.34    Yes             0.0           0.0          No   \n",
       "2                No  26.58     No            20.0          30.0          No   \n",
       "3                No  24.21     No             0.0           0.0          No   \n",
       "4                No  23.71     No            28.0           0.0         Yes   \n",
       "...             ...    ...    ...             ...           ...         ...   \n",
       "319790          Yes  27.41     No             7.0           0.0         Yes   \n",
       "319791           No  29.84     No             0.0           0.0          No   \n",
       "319792           No  24.24     No             0.0           0.0          No   \n",
       "319793           No  32.81     No             0.0           0.0          No   \n",
       "319794           No  46.56     No             0.0           0.0          No   \n",
       "\n",
       "           Sex  AgeCategory      Race Diabetic PhysicalActivity  GenHealth  \\\n",
       "0            F        55-59       NaN      Yes              Yes  Very good   \n",
       "1            F  80 or older       NaN       No              Yes  Very good   \n",
       "2         Male        65-69       NaN      Yes              Yes       Fair   \n",
       "3            F        75-79       NaN       No               No       Good   \n",
       "4            F        40-44       NaN       No              Yes  Very good   \n",
       "...        ...          ...       ...      ...              ...        ...   \n",
       "319790       M        60-64  Hispanic      Yes               No       Fair   \n",
       "319791       M          NaN  Hispanic       No              Yes  Very good   \n",
       "319792  Female        45-49  Hispanic       No              Yes       Good   \n",
       "319793  Female        25-29  Hispanic       No               No       Good   \n",
       "319794  Female  80 or older  Hispanic       No              Yes       Good   \n",
       "\n",
       "        SleepTime Asthma KidneyDisease SkinCancer  \\\n",
       "0             5.0    Yes            No        Yes   \n",
       "1             NaN     No            No         No   \n",
       "2             8.0    Yes            No         No   \n",
       "3             6.0     No            No        Yes   \n",
       "4             8.0     No            No         No   \n",
       "...           ...    ...           ...        ...   \n",
       "319790        6.0    Yes            No         No   \n",
       "319791        5.0    Yes            No         No   \n",
       "319792        6.0     No            No         No   \n",
       "319793       12.0     No            No         No   \n",
       "319794        8.0     No            No         No   \n",
       "\n",
       "                                        bad_habbits  \n",
       "0       {'Smoking'  'Yes', 'AlcoholDrinking'  'No'}  \n",
       "1        {'Smoking'  'No', 'AlcoholDrinking'  'No'}  \n",
       "2       {'Smoking'  'Yes', 'AlcoholDrinking'  'No'}  \n",
       "3        {'Smoking'  'No', 'AlcoholDrinking'  'No'}  \n",
       "4        {'Smoking'  'No', 'AlcoholDrinking'  'No'}  \n",
       "...                                             ...  \n",
       "319790  {'Smoking'  'Yes', 'AlcoholDrinking'  'No'}  \n",
       "319791  {'Smoking'  'Yes', 'AlcoholDrinking'  'No'}  \n",
       "319792   {'Smoking'  'No', 'AlcoholDrinking'  'No'}  \n",
       "319793   {'Smoking'  'No', 'AlcoholDrinking'  'No'}  \n",
       "319794   {'Smoking'  'No', 'AlcoholDrinking'  'No'}  \n",
       "\n",
       "[319795 rows x 17 columns]"
      ]
     },
     "execution_count": 1,
     "metadata": {},
     "output_type": "execute_result"
    }
   ],
   "source": [
    "import pandas as pd\n",
    "import matplotlib.pyplot as plt\n",
    "import numpy as np\n",
    "import seaborn as sns\n",
    "import random\n",
    "from sklearn.model_selection import train_test_split\n",
    "from sklearn.preprocessing import MinMaxScaler\n",
    "from sklearn.decomposition import PCA\n",
    "from sklearn.pipeline import Pipeline\n",
    "from sklearn.linear_model import LogisticRegression\n",
    "from sklearn.tree import DecisionTreeClassifier\n",
    "from sklearn.ensemble import RandomForestClassifier\n",
    "df = pd.read_csv(\"Heart_data.csv\")\n",
    "df"
   ]
  },
  {
   "cell_type": "markdown",
   "id": "82bdfea8",
   "metadata": {},
   "source": [
    "# Checking for null values and cleaning the datasheet\n"
   ]
  },
  {
   "cell_type": "code",
   "execution_count": 2,
   "id": "066c379b",
   "metadata": {
    "scrolled": true
   },
   "outputs": [
    {
     "name": "stdout",
     "output_type": "stream",
     "text": [
      "<class 'pandas.core.frame.DataFrame'>\n",
      "RangeIndex: 319795 entries, 0 to 319794\n",
      "Data columns (total 17 columns):\n",
      " #   Column            Non-Null Count   Dtype  \n",
      "---  ------            --------------   -----  \n",
      " 0   HeartDisease      319795 non-null  object \n",
      " 1   BMI               309896 non-null  float64\n",
      " 2   Stroke            319795 non-null  object \n",
      " 3   PhysicalHealth    319795 non-null  float64\n",
      " 4   MentalHealth      319795 non-null  float64\n",
      " 5   DiffWalking       319795 non-null  object \n",
      " 6   Sex               319795 non-null  object \n",
      " 7   AgeCategory       299245 non-null  object \n",
      " 8   Race              283950 non-null  object \n",
      " 9   Diabetic          319795 non-null  object \n",
      " 10  PhysicalActivity  319795 non-null  object \n",
      " 11  GenHealth         319795 non-null  object \n",
      " 12  SleepTime         222044 non-null  float64\n",
      " 13  Asthma            319795 non-null  object \n",
      " 14  KidneyDisease     319795 non-null  object \n",
      " 15  SkinCancer        319795 non-null  object \n",
      " 16  bad_habbits       319795 non-null  object \n",
      "dtypes: float64(4), object(13)\n",
      "memory usage: 41.5+ MB\n"
     ]
    }
   ],
   "source": [
    "df.info()"
   ]
  },
  {
   "cell_type": "code",
   "execution_count": 3,
   "id": "ba534163",
   "metadata": {},
   "outputs": [
    {
     "data": {
      "text/plain": [
       "10373"
      ]
     },
     "execution_count": 3,
     "metadata": {},
     "output_type": "execute_result"
    }
   ],
   "source": [
    "df.duplicated().sum()"
   ]
  },
  {
   "cell_type": "code",
   "execution_count": 4,
   "id": "755a74c5",
   "metadata": {},
   "outputs": [],
   "source": [
    "df.drop_duplicates(subset=None, keep='first', inplace=True)"
   ]
  },
  {
   "cell_type": "code",
   "execution_count": 5,
   "id": "037dedf1",
   "metadata": {},
   "outputs": [],
   "source": [
    "df['HeartDisease'] = df['HeartDisease'].replace('No', False)"
   ]
  },
  {
   "cell_type": "code",
   "execution_count": 6,
   "id": "af2c594b",
   "metadata": {},
   "outputs": [],
   "source": [
    "df['HeartDisease'] = df['HeartDisease'].replace('Yes', True)"
   ]
  },
  {
   "cell_type": "code",
   "execution_count": 7,
   "id": "50e35af9",
   "metadata": {},
   "outputs": [],
   "source": [
    "df['Stroke'] = df['Stroke'].replace('Yes', True)\n",
    "df['Stroke'] = df['Stroke'].replace('No', False)"
   ]
  },
  {
   "cell_type": "code",
   "execution_count": 8,
   "id": "fa833e73",
   "metadata": {},
   "outputs": [],
   "source": [
    "df['BMI'].fillna(df['BMI'].mean(), inplace = True)"
   ]
  },
  {
   "cell_type": "code",
   "execution_count": 9,
   "id": "27bec0c2",
   "metadata": {},
   "outputs": [
    {
     "name": "stdout",
     "output_type": "stream",
     "text": [
      "<class 'pandas.core.frame.DataFrame'>\n",
      "Int64Index: 309422 entries, 0 to 319794\n",
      "Data columns (total 17 columns):\n",
      " #   Column            Non-Null Count   Dtype  \n",
      "---  ------            --------------   -----  \n",
      " 0   HeartDisease      309422 non-null  bool   \n",
      " 1   BMI               309422 non-null  float64\n",
      " 2   Stroke            309422 non-null  bool   \n",
      " 3   PhysicalHealth    309422 non-null  float64\n",
      " 4   MentalHealth      309422 non-null  float64\n",
      " 5   DiffWalking       309422 non-null  object \n",
      " 6   Sex               309422 non-null  object \n",
      " 7   AgeCategory       289438 non-null  object \n",
      " 8   Race              274135 non-null  object \n",
      " 9   Diabetic          309422 non-null  object \n",
      " 10  PhysicalActivity  309422 non-null  object \n",
      " 11  GenHealth         309422 non-null  object \n",
      " 12  SleepTime         216451 non-null  float64\n",
      " 13  Asthma            309422 non-null  object \n",
      " 14  KidneyDisease     309422 non-null  object \n",
      " 15  SkinCancer        309422 non-null  object \n",
      " 16  bad_habbits       309422 non-null  object \n",
      "dtypes: bool(2), float64(4), object(11)\n",
      "memory usage: 38.4+ MB\n"
     ]
    }
   ],
   "source": [
    "df.info()"
   ]
  },
  {
   "cell_type": "code",
   "execution_count": 10,
   "id": "8521f32b",
   "metadata": {},
   "outputs": [],
   "source": [
    "df['DiffWalking'] = df['DiffWalking'].replace('Yes', True)\n",
    "df['DiffWalking'] = df['DiffWalking'].replace('No', False)\n"
   ]
  },
  {
   "cell_type": "code",
   "execution_count": 11,
   "id": "08d21230",
   "metadata": {},
   "outputs": [
    {
     "data": {
      "text/plain": [
       "array(['F', 'Male', 'Female', 'M'], dtype=object)"
      ]
     },
     "execution_count": 11,
     "metadata": {},
     "output_type": "execute_result"
    }
   ],
   "source": [
    "df['Sex'].unique()"
   ]
  },
  {
   "cell_type": "code",
   "execution_count": 12,
   "id": "9d3058e7",
   "metadata": {},
   "outputs": [],
   "source": [
    "df['Sex'].replace('Male', 'M', inplace = True)\n",
    "df['Sex'].replace('Female', 'F', inplace = True)"
   ]
  },
  {
   "cell_type": "code",
   "execution_count": 13,
   "id": "1c69e2ee",
   "metadata": {},
   "outputs": [
    {
     "name": "stdout",
     "output_type": "stream",
     "text": [
      "65-69          32713\n",
      "60-64          32233\n",
      "70-74          30019\n",
      "55-59          28524\n",
      "50-54          24437\n",
      "80 or older    23697\n",
      "75-79          21081\n",
      "45-49          21035\n",
      "18-24          20464\n",
      "40-44          20337\n",
      "30-34          18293\n",
      "25-29          16605\n",
      "Name: AgeCategory, dtype: int64\n",
      "['55-59' '80 or older' '65-69' '75-79' '40-44' '70-74' '60-64' '50-54'\n",
      " '45-49' '18-24' nan '30-34' '25-29']\n"
     ]
    }
   ],
   "source": [
    "print(df['AgeCategory'].value_counts())\n",
    "print(df['AgeCategory'].unique())\n"
   ]
  },
  {
   "cell_type": "code",
   "execution_count": 14,
   "id": "b519772d",
   "metadata": {},
   "outputs": [],
   "source": [
    "df.replace({'AgeCategory': {'55-59': random.randint(55, 59), '80 or older':random.randint(80, 84),\n",
    "                            '65-69':random.randint(65, 69),'75-79':random.randint(75,79),\n",
    "                            '40-44':random.randint(40, 44),'70-74':random.randint(70, 74),\n",
    "                            '60-64':random.randint(60, 64),'50-54':random.randint(50, 54),\n",
    "                            '45-49':random.randint(45, 49),'18-24':random.randint(18, 24),\n",
    "                            '30-34':random.randint(30, 34),'25-29':random.randint(25, 29)}}, inplace =True)\n",
    "df.rename(columns = {'AgeCategory':'Age'}, inplace = True)"
   ]
  },
  {
   "cell_type": "code",
   "execution_count": 15,
   "id": "a0a01b01",
   "metadata": {},
   "outputs": [],
   "source": [
    "mean = df['Age'].mean()\n",
    "df['Age'].fillna(int(mean), inplace =True)\n"
   ]
  },
  {
   "cell_type": "code",
   "execution_count": 16,
   "id": "8897585c",
   "metadata": {},
   "outputs": [
    {
     "data": {
      "text/plain": [
       "White                             199932\n",
       "NaN                                35287\n",
       "Hispanic                           27224\n",
       "Black                              22850\n",
       "Other                              10908\n",
       "Asian                               8028\n",
       "American Indian/Alaskan Native      5193\n",
       "Name: Race, dtype: int64"
      ]
     },
     "execution_count": 16,
     "metadata": {},
     "output_type": "execute_result"
    }
   ],
   "source": [
    "df['Race'].value_counts(dropna=False)"
   ]
  },
  {
   "cell_type": "code",
   "execution_count": 17,
   "id": "1da75369",
   "metadata": {},
   "outputs": [],
   "source": [
    "df['Race'].fillna('White', inplace =True)"
   ]
  },
  {
   "cell_type": "code",
   "execution_count": 18,
   "id": "a769e71f",
   "metadata": {},
   "outputs": [
    {
     "data": {
      "text/plain": [
       "array(['Yes', 'No', 'No, borderline diabetes', 'Yes (during pregnancy)'],\n",
       "      dtype=object)"
      ]
     },
     "execution_count": 18,
     "metadata": {},
     "output_type": "execute_result"
    }
   ],
   "source": [
    "df['Diabetic'].unique()"
   ]
  },
  {
   "cell_type": "code",
   "execution_count": 19,
   "id": "bbf98240",
   "metadata": {},
   "outputs": [],
   "source": [
    "df.replace({'Diabetic': {'No, borderline diabetes': False, 'Yes (during pregnancy)': True,\n",
    "                         'Yes': True, 'No' : False}}, inplace = True)"
   ]
  },
  {
   "cell_type": "code",
   "execution_count": 20,
   "id": "c06d6dd4",
   "metadata": {},
   "outputs": [],
   "source": [
    "df.replace({'PhysicalActivity': {'Yes': True, 'No' : False}}, inplace = True)"
   ]
  },
  {
   "cell_type": "code",
   "execution_count": 21,
   "id": "8a221676",
   "metadata": {},
   "outputs": [],
   "source": [
    "df['SleepTime'].fillna(df['SleepTime'].mean(), inplace = True)"
   ]
  },
  {
   "cell_type": "code",
   "execution_count": 22,
   "id": "c5de262a",
   "metadata": {},
   "outputs": [],
   "source": [
    "df.replace({'Asthma': {'Yes': True, 'No' : False}}, inplace = True)"
   ]
  },
  {
   "cell_type": "code",
   "execution_count": 23,
   "id": "fc776cad",
   "metadata": {},
   "outputs": [],
   "source": [
    "df.replace({'KidneyDisease': {'Yes': True, 'No' : False}}, inplace = True)"
   ]
  },
  {
   "cell_type": "code",
   "execution_count": 24,
   "id": "5ce5860e",
   "metadata": {},
   "outputs": [],
   "source": [
    "df.replace({'SkinCancer': {'Yes': True, 'No' : False}}, inplace = True)"
   ]
  },
  {
   "cell_type": "code",
   "execution_count": 25,
   "id": "9e186460",
   "metadata": {},
   "outputs": [
    {
     "data": {
      "text/plain": [
       "{'Smoking'  'No', 'AlcoholDrinking'  'No'}      171572\n",
       "{'Smoking'  'Yes', 'AlcoholDrinking'  'No'}     116173\n",
       "{'Smoking'  'Yes', 'AlcoholDrinking'  'Yes'}     13352\n",
       "{'Smoking'  'No', 'AlcoholDrinking'  'Yes'}       8325\n",
       "Name: bad_habbits, dtype: int64"
      ]
     },
     "execution_count": 25,
     "metadata": {},
     "output_type": "execute_result"
    }
   ],
   "source": [
    "df['bad_habbits'].value_counts()"
   ]
  },
  {
   "cell_type": "code",
   "execution_count": 26,
   "id": "3275e1c6",
   "metadata": {},
   "outputs": [
    {
     "name": "stdout",
     "output_type": "stream",
     "text": [
      "{'Smoking'  'No'     179897\n",
      "{'Smoking'  'Yes'    129525\n",
      "Name: 0, dtype: int64\n",
      " 'AlcoholDrinking'  'No'}     287745\n",
      " 'AlcoholDrinking'  'Yes'}     21677\n",
      "Name: 1, dtype: int64\n"
     ]
    }
   ],
   "source": [
    "# custom number of splits\n",
    "dfCopy = df['bad_habbits'].str.split(',', expand=True)\n",
    "print(dfCopy[0].value_counts())\n",
    "print(dfCopy[1].value_counts())"
   ]
  },
  {
   "cell_type": "code",
   "execution_count": 27,
   "id": "06481e63",
   "metadata": {},
   "outputs": [],
   "source": [
    "dfCopy.rename(columns = {0:'Smokes', 1:'DrinksAlcohol'}, inplace = True)"
   ]
  },
  {
   "cell_type": "code",
   "execution_count": 28,
   "id": "7213aa16",
   "metadata": {},
   "outputs": [],
   "source": [
    "dfCopy.replace({'Smokes': {\"{'Smoking'  'No'\": False, \"{'Smoking'  'Yes'\":True}}, inplace =True)\n"
   ]
  },
  {
   "cell_type": "code",
   "execution_count": 29,
   "id": "434d2bae",
   "metadata": {},
   "outputs": [],
   "source": [
    "dfCopy.replace({'DrinksAlcohol':{\" 'AlcoholDrinking'  'No'}\": False, \" 'AlcoholDrinking'  'Yes'}\":True }}, inplace =True)"
   ]
  },
  {
   "cell_type": "code",
   "execution_count": 30,
   "id": "052597c4",
   "metadata": {},
   "outputs": [],
   "source": [
    "df = df.assign(**dfCopy)"
   ]
  },
  {
   "cell_type": "code",
   "execution_count": 31,
   "id": "577cc557",
   "metadata": {},
   "outputs": [],
   "source": [
    "df.drop(columns='bad_habbits', inplace = True)"
   ]
  },
  {
   "cell_type": "code",
   "execution_count": 32,
   "id": "bc75010c",
   "metadata": {
    "scrolled": true
   },
   "outputs": [
    {
     "name": "stdout",
     "output_type": "stream",
     "text": [
      "<class 'pandas.core.frame.DataFrame'>\n",
      "Int64Index: 309422 entries, 0 to 319794\n",
      "Data columns (total 18 columns):\n",
      " #   Column            Non-Null Count   Dtype  \n",
      "---  ------            --------------   -----  \n",
      " 0   HeartDisease      309422 non-null  bool   \n",
      " 1   BMI               309422 non-null  float64\n",
      " 2   Stroke            309422 non-null  bool   \n",
      " 3   PhysicalHealth    309422 non-null  float64\n",
      " 4   MentalHealth      309422 non-null  float64\n",
      " 5   DiffWalking       309422 non-null  bool   \n",
      " 6   Sex               309422 non-null  object \n",
      " 7   Age               309422 non-null  float64\n",
      " 8   Race              309422 non-null  object \n",
      " 9   Diabetic          309422 non-null  bool   \n",
      " 10  PhysicalActivity  309422 non-null  bool   \n",
      " 11  GenHealth         309422 non-null  object \n",
      " 12  SleepTime         309422 non-null  float64\n",
      " 13  Asthma            309422 non-null  bool   \n",
      " 14  KidneyDisease     309422 non-null  bool   \n",
      " 15  SkinCancer        309422 non-null  bool   \n",
      " 16  Smokes            309422 non-null  bool   \n",
      " 17  DrinksAlcohol     309422 non-null  bool   \n",
      "dtypes: bool(10), float64(5), object(3)\n",
      "memory usage: 24.2+ MB\n"
     ]
    }
   ],
   "source": [
    "df.info()"
   ]
  },
  {
   "cell_type": "markdown",
   "id": "4f38ebd7",
   "metadata": {},
   "source": [
    "# Analysing the data and their relations"
   ]
  },
  {
   "cell_type": "code",
   "execution_count": 34,
   "id": "de2cc47a",
   "metadata": {},
   "outputs": [
    {
     "data": {
      "text/plain": [
       "Index(['HeartDisease', 'BMI', 'Stroke', 'PhysicalHealth', 'MentalHealth',\n",
       "       'DiffWalking', 'Sex', 'Age', 'Race', 'Diabetic', 'PhysicalActivity',\n",
       "       'GenHealth', 'SleepTime', 'Asthma', 'KidneyDisease', 'SkinCancer',\n",
       "       'Smokes', 'DrinksAlcohol'],\n",
       "      dtype='object')"
      ]
     },
     "execution_count": 34,
     "metadata": {},
     "output_type": "execute_result"
    }
   ],
   "source": [
    "df.columns\n"
   ]
  },
  {
   "cell_type": "markdown",
   "id": "2e2754d3",
   "metadata": {},
   "source": [
    "# Trying the different pipeline models"
   ]
  },
  {
   "cell_type": "code",
   "execution_count": 257,
   "id": "1406722b",
   "metadata": {},
   "outputs": [],
   "source": [
    "##dfCopy = df.replace({'Sex': {\"M\": 1, \"F\":0},'Race':{'White':0, 'Black':1, 'Asian':3, 'American Indian/Alaskan Native':4,\n",
    "    ##   'Other':5, 'Hispanic':6}, 'GenHealth':{'Very good':3, 'Fair':1, 'Good':2, 'Poor':0, 'Excellent':4} } )"
   ]
  },
  {
   "cell_type": "code",
   "execution_count": 258,
   "id": "9dbd002b",
   "metadata": {},
   "outputs": [
    {
     "data": {
      "text/html": [
       "<div>\n",
       "<style scoped>\n",
       "    .dataframe tbody tr th:only-of-type {\n",
       "        vertical-align: middle;\n",
       "    }\n",
       "\n",
       "    .dataframe tbody tr th {\n",
       "        vertical-align: top;\n",
       "    }\n",
       "\n",
       "    .dataframe thead th {\n",
       "        text-align: right;\n",
       "    }\n",
       "</style>\n",
       "<table border=\"1\" class=\"dataframe\">\n",
       "  <thead>\n",
       "    <tr style=\"text-align: right;\">\n",
       "      <th></th>\n",
       "      <th>HeartDisease</th>\n",
       "      <th>BMI</th>\n",
       "      <th>Stroke</th>\n",
       "      <th>PhysicalHealth</th>\n",
       "      <th>MentalHealth</th>\n",
       "      <th>DiffWalking</th>\n",
       "      <th>Sex</th>\n",
       "      <th>Age</th>\n",
       "      <th>Race</th>\n",
       "      <th>Diabetic</th>\n",
       "      <th>PhysicalActivity</th>\n",
       "      <th>GenHealth</th>\n",
       "      <th>SleepTime</th>\n",
       "      <th>Asthma</th>\n",
       "      <th>KidneyDisease</th>\n",
       "      <th>SkinCancer</th>\n",
       "      <th>Smokes</th>\n",
       "      <th>DrinksAlcohol</th>\n",
       "    </tr>\n",
       "  </thead>\n",
       "  <tbody>\n",
       "    <tr>\n",
       "      <th>0</th>\n",
       "      <td>False</td>\n",
       "      <td>16.60</td>\n",
       "      <td>False</td>\n",
       "      <td>3.0</td>\n",
       "      <td>30.0</td>\n",
       "      <td>False</td>\n",
       "      <td>0</td>\n",
       "      <td>58.0</td>\n",
       "      <td>0</td>\n",
       "      <td>True</td>\n",
       "      <td>True</td>\n",
       "      <td>3</td>\n",
       "      <td>5.000000</td>\n",
       "      <td>True</td>\n",
       "      <td>False</td>\n",
       "      <td>True</td>\n",
       "      <td>True</td>\n",
       "      <td>False</td>\n",
       "    </tr>\n",
       "    <tr>\n",
       "      <th>1</th>\n",
       "      <td>False</td>\n",
       "      <td>20.34</td>\n",
       "      <td>True</td>\n",
       "      <td>0.0</td>\n",
       "      <td>0.0</td>\n",
       "      <td>False</td>\n",
       "      <td>0</td>\n",
       "      <td>82.0</td>\n",
       "      <td>0</td>\n",
       "      <td>False</td>\n",
       "      <td>True</td>\n",
       "      <td>3</td>\n",
       "      <td>7.128611</td>\n",
       "      <td>False</td>\n",
       "      <td>False</td>\n",
       "      <td>False</td>\n",
       "      <td>False</td>\n",
       "      <td>False</td>\n",
       "    </tr>\n",
       "    <tr>\n",
       "      <th>2</th>\n",
       "      <td>False</td>\n",
       "      <td>26.58</td>\n",
       "      <td>False</td>\n",
       "      <td>20.0</td>\n",
       "      <td>30.0</td>\n",
       "      <td>False</td>\n",
       "      <td>1</td>\n",
       "      <td>66.0</td>\n",
       "      <td>0</td>\n",
       "      <td>True</td>\n",
       "      <td>True</td>\n",
       "      <td>1</td>\n",
       "      <td>8.000000</td>\n",
       "      <td>True</td>\n",
       "      <td>False</td>\n",
       "      <td>False</td>\n",
       "      <td>True</td>\n",
       "      <td>False</td>\n",
       "    </tr>\n",
       "    <tr>\n",
       "      <th>3</th>\n",
       "      <td>False</td>\n",
       "      <td>24.21</td>\n",
       "      <td>False</td>\n",
       "      <td>0.0</td>\n",
       "      <td>0.0</td>\n",
       "      <td>False</td>\n",
       "      <td>0</td>\n",
       "      <td>79.0</td>\n",
       "      <td>0</td>\n",
       "      <td>False</td>\n",
       "      <td>False</td>\n",
       "      <td>2</td>\n",
       "      <td>6.000000</td>\n",
       "      <td>False</td>\n",
       "      <td>False</td>\n",
       "      <td>True</td>\n",
       "      <td>False</td>\n",
       "      <td>False</td>\n",
       "    </tr>\n",
       "    <tr>\n",
       "      <th>4</th>\n",
       "      <td>False</td>\n",
       "      <td>23.71</td>\n",
       "      <td>False</td>\n",
       "      <td>28.0</td>\n",
       "      <td>0.0</td>\n",
       "      <td>True</td>\n",
       "      <td>0</td>\n",
       "      <td>41.0</td>\n",
       "      <td>0</td>\n",
       "      <td>False</td>\n",
       "      <td>True</td>\n",
       "      <td>3</td>\n",
       "      <td>8.000000</td>\n",
       "      <td>False</td>\n",
       "      <td>False</td>\n",
       "      <td>False</td>\n",
       "      <td>False</td>\n",
       "      <td>False</td>\n",
       "    </tr>\n",
       "    <tr>\n",
       "      <th>...</th>\n",
       "      <td>...</td>\n",
       "      <td>...</td>\n",
       "      <td>...</td>\n",
       "      <td>...</td>\n",
       "      <td>...</td>\n",
       "      <td>...</td>\n",
       "      <td>...</td>\n",
       "      <td>...</td>\n",
       "      <td>...</td>\n",
       "      <td>...</td>\n",
       "      <td>...</td>\n",
       "      <td>...</td>\n",
       "      <td>...</td>\n",
       "      <td>...</td>\n",
       "      <td>...</td>\n",
       "      <td>...</td>\n",
       "      <td>...</td>\n",
       "      <td>...</td>\n",
       "    </tr>\n",
       "    <tr>\n",
       "      <th>319790</th>\n",
       "      <td>True</td>\n",
       "      <td>27.41</td>\n",
       "      <td>False</td>\n",
       "      <td>7.0</td>\n",
       "      <td>0.0</td>\n",
       "      <td>True</td>\n",
       "      <td>1</td>\n",
       "      <td>64.0</td>\n",
       "      <td>6</td>\n",
       "      <td>True</td>\n",
       "      <td>False</td>\n",
       "      <td>1</td>\n",
       "      <td>6.000000</td>\n",
       "      <td>True</td>\n",
       "      <td>False</td>\n",
       "      <td>False</td>\n",
       "      <td>True</td>\n",
       "      <td>False</td>\n",
       "    </tr>\n",
       "    <tr>\n",
       "      <th>319791</th>\n",
       "      <td>False</td>\n",
       "      <td>29.84</td>\n",
       "      <td>False</td>\n",
       "      <td>0.0</td>\n",
       "      <td>0.0</td>\n",
       "      <td>False</td>\n",
       "      <td>1</td>\n",
       "      <td>55.0</td>\n",
       "      <td>6</td>\n",
       "      <td>False</td>\n",
       "      <td>True</td>\n",
       "      <td>3</td>\n",
       "      <td>5.000000</td>\n",
       "      <td>True</td>\n",
       "      <td>False</td>\n",
       "      <td>False</td>\n",
       "      <td>True</td>\n",
       "      <td>False</td>\n",
       "    </tr>\n",
       "    <tr>\n",
       "      <th>319792</th>\n",
       "      <td>False</td>\n",
       "      <td>24.24</td>\n",
       "      <td>False</td>\n",
       "      <td>0.0</td>\n",
       "      <td>0.0</td>\n",
       "      <td>False</td>\n",
       "      <td>0</td>\n",
       "      <td>49.0</td>\n",
       "      <td>6</td>\n",
       "      <td>False</td>\n",
       "      <td>True</td>\n",
       "      <td>2</td>\n",
       "      <td>6.000000</td>\n",
       "      <td>False</td>\n",
       "      <td>False</td>\n",
       "      <td>False</td>\n",
       "      <td>False</td>\n",
       "      <td>False</td>\n",
       "    </tr>\n",
       "    <tr>\n",
       "      <th>319793</th>\n",
       "      <td>False</td>\n",
       "      <td>32.81</td>\n",
       "      <td>False</td>\n",
       "      <td>0.0</td>\n",
       "      <td>0.0</td>\n",
       "      <td>False</td>\n",
       "      <td>0</td>\n",
       "      <td>27.0</td>\n",
       "      <td>6</td>\n",
       "      <td>False</td>\n",
       "      <td>False</td>\n",
       "      <td>2</td>\n",
       "      <td>12.000000</td>\n",
       "      <td>False</td>\n",
       "      <td>False</td>\n",
       "      <td>False</td>\n",
       "      <td>False</td>\n",
       "      <td>False</td>\n",
       "    </tr>\n",
       "    <tr>\n",
       "      <th>319794</th>\n",
       "      <td>False</td>\n",
       "      <td>46.56</td>\n",
       "      <td>False</td>\n",
       "      <td>0.0</td>\n",
       "      <td>0.0</td>\n",
       "      <td>False</td>\n",
       "      <td>0</td>\n",
       "      <td>82.0</td>\n",
       "      <td>6</td>\n",
       "      <td>False</td>\n",
       "      <td>True</td>\n",
       "      <td>2</td>\n",
       "      <td>8.000000</td>\n",
       "      <td>False</td>\n",
       "      <td>False</td>\n",
       "      <td>False</td>\n",
       "      <td>False</td>\n",
       "      <td>False</td>\n",
       "    </tr>\n",
       "  </tbody>\n",
       "</table>\n",
       "<p>309422 rows × 18 columns</p>\n",
       "</div>"
      ],
      "text/plain": [
       "        HeartDisease    BMI  Stroke  PhysicalHealth  MentalHealth  \\\n",
       "0              False  16.60   False             3.0          30.0   \n",
       "1              False  20.34    True             0.0           0.0   \n",
       "2              False  26.58   False            20.0          30.0   \n",
       "3              False  24.21   False             0.0           0.0   \n",
       "4              False  23.71   False            28.0           0.0   \n",
       "...              ...    ...     ...             ...           ...   \n",
       "319790          True  27.41   False             7.0           0.0   \n",
       "319791         False  29.84   False             0.0           0.0   \n",
       "319792         False  24.24   False             0.0           0.0   \n",
       "319793         False  32.81   False             0.0           0.0   \n",
       "319794         False  46.56   False             0.0           0.0   \n",
       "\n",
       "        DiffWalking  Sex   Age  Race  Diabetic  PhysicalActivity  GenHealth  \\\n",
       "0             False    0  58.0     0      True              True          3   \n",
       "1             False    0  82.0     0     False              True          3   \n",
       "2             False    1  66.0     0      True              True          1   \n",
       "3             False    0  79.0     0     False             False          2   \n",
       "4              True    0  41.0     0     False              True          3   \n",
       "...             ...  ...   ...   ...       ...               ...        ...   \n",
       "319790         True    1  64.0     6      True             False          1   \n",
       "319791        False    1  55.0     6     False              True          3   \n",
       "319792        False    0  49.0     6     False              True          2   \n",
       "319793        False    0  27.0     6     False             False          2   \n",
       "319794        False    0  82.0     6     False              True          2   \n",
       "\n",
       "        SleepTime  Asthma  KidneyDisease  SkinCancer  Smokes  DrinksAlcohol  \n",
       "0        5.000000    True          False        True    True          False  \n",
       "1        7.128611   False          False       False   False          False  \n",
       "2        8.000000    True          False       False    True          False  \n",
       "3        6.000000   False          False        True   False          False  \n",
       "4        8.000000   False          False       False   False          False  \n",
       "...           ...     ...            ...         ...     ...            ...  \n",
       "319790   6.000000    True          False       False    True          False  \n",
       "319791   5.000000    True          False       False    True          False  \n",
       "319792   6.000000   False          False       False   False          False  \n",
       "319793  12.000000   False          False       False   False          False  \n",
       "319794   8.000000   False          False       False   False          False  \n",
       "\n",
       "[309422 rows x 18 columns]"
      ]
     },
     "execution_count": 258,
     "metadata": {},
     "output_type": "execute_result"
    }
   ],
   "source": [
    "##dfCopy"
   ]
  },
  {
   "cell_type": "code",
   "execution_count": 259,
   "id": "0e72da17",
   "metadata": {},
   "outputs": [],
   "source": [
    "X_train,X_test,y_train,y_test = train_test_split(df.iloc[:,[1,2,3,4,5,7,9,10,12,13,14,15,16,17]],\n",
    "                                                 df.iloc[:,[0]],test_size=0.2,random_state=1)"
   ]
  },
  {
   "cell_type": "code",
   "execution_count": 260,
   "id": "e31a5090",
   "metadata": {},
   "outputs": [],
   "source": [
    "#Logistic Regression Pipeline\n",
    "LogisticRegressionPipeline = Pipeline([('myscaler',MinMaxScaler()),\n",
    "                     ('mypca',PCA(n_components=3)),\n",
    "                     ('logistic_classifier',LogisticRegression())])"
   ]
  },
  {
   "cell_type": "code",
   "execution_count": 261,
   "id": "85765cf0",
   "metadata": {},
   "outputs": [],
   "source": [
    "#Decision tree Pipeline\n",
    "DecisionTreePipeline = Pipeline([('myscaler',MinMaxScaler()),\n",
    "                     ('mypca',PCA(n_components=3)),\n",
    "                     ('decisiontree_classifier',DecisionTreeClassifier())])"
   ]
  },
  {
   "cell_type": "code",
   "execution_count": 262,
   "id": "55a8f477",
   "metadata": {},
   "outputs": [],
   "source": [
    "#Random Forest Pipeline\n",
    "RandomForestPipeline = Pipeline([('myscaler',MinMaxScaler()),\n",
    "                     ('mypca',PCA(n_components=3)),\n",
    "                     ('randomforest_classifier',RandomForestClassifier())])"
   ]
  },
  {
   "cell_type": "code",
   "execution_count": 263,
   "id": "af69ed63",
   "metadata": {},
   "outputs": [],
   "source": [
    "## Defining the pipelines in a list\n",
    "The_Pipelined_Models = [LogisticRegressionPipeline, DecisionTreePipeline, RandomForestPipeline]"
   ]
  },
  {
   "cell_type": "code",
   "execution_count": 264,
   "id": "6a372986",
   "metadata": {},
   "outputs": [
    {
     "name": "stderr",
     "output_type": "stream",
     "text": [
      "D:\\Program Files (x86)\\anaconda3\\lib\\site-packages\\sklearn\\utils\\validation.py:63: DataConversionWarning: A column-vector y was passed when a 1d array was expected. Please change the shape of y to (n_samples, ), for example using ravel().\n",
      "  return f(*args, **kwargs)\n",
      "D:\\Program Files (x86)\\anaconda3\\lib\\site-packages\\sklearn\\pipeline.py:346: DataConversionWarning: A column-vector y was passed when a 1d array was expected. Please change the shape of y to (n_samples,), for example using ravel().\n",
      "  self._final_estimator.fit(Xt, y, **fit_params_last_step)\n"
     ]
    }
   ],
   "source": [
    "# Creating dictionary of pipelines and training models\n",
    "PipelineDict = {0: 'Logistic Regression', 1: 'Decision Tree', 2: 'Random Forest'}\n",
    "\n",
    "# Fit the pipelines\n",
    "for pipe in The_Pipelined_Models:\n",
    "    pipe.fit(X_train, y_train)"
   ]
  },
  {
   "cell_type": "code",
   "execution_count": 265,
   "id": "b5b686c5",
   "metadata": {},
   "outputs": [
    {
     "name": "stdout",
     "output_type": "stream",
     "text": [
      "Logistic Regression Test Accuracy: 0.9121434919608952\n",
      "Decision Tree Test Accuracy: 0.8654116506423204\n",
      "Random Forest Test Accuracy: 0.8949018340470227\n"
     ]
    }
   ],
   "source": [
    "#getting test accuracy for all classifiers\n",
    "for i,model in enumerate(The_Pipelined_Models):\n",
    "    print(\"{} Test Accuracy: {}\".format(PipelineDict[i],model.score(X_test,y_test)))"
   ]
  },
  {
   "cell_type": "code",
   "execution_count": 266,
   "id": "9b9fe000",
   "metadata": {},
   "outputs": [],
   "source": [
    "#Defining variables for choosing best model \n",
    "accuracy  = 0.0\n",
    "classifier= 0\n",
    "pipeline  = \"\""
   ]
  },
  {
   "cell_type": "code",
   "execution_count": 267,
   "id": "d765b6c4",
   "metadata": {},
   "outputs": [
    {
     "name": "stdout",
     "output_type": "stream",
     "text": [
      "Classifier with best accuracy:Logistic Regression\n"
     ]
    }
   ],
   "source": [
    "#Choosing best model for the given data \"Automatically\"\n",
    "for i,model in enumerate(The_Pipelined_Models):\n",
    "    if model.score(X_test,y_test)>accuracy:\n",
    "        accuracy=model.score(X_test,y_test)\n",
    "        pipeline=model\n",
    "        classifier=i\n",
    "print('Classifier with best accuracy:{}'.format(PipelineDict[classifier]))"
   ]
  },
  {
   "cell_type": "code",
   "execution_count": 268,
   "id": "9eb3092d",
   "metadata": {},
   "outputs": [],
   "source": [
    "preds = LogisticRegressionPipeline.predict(X_test)"
   ]
  },
  {
   "cell_type": "code",
   "execution_count": 269,
   "id": "fbb700ff",
   "metadata": {},
   "outputs": [],
   "source": [
    "from sklearn.metrics import confusion_matrix, accuracy_score, recall_score, precision_score"
   ]
  },
  {
   "cell_type": "code",
   "execution_count": 270,
   "id": "14fd3913",
   "metadata": {},
   "outputs": [
    {
     "data": {
      "text/plain": [
       "array([[56265,   226],\n",
       "       [ 5211,   183]], dtype=int64)"
      ]
     },
     "execution_count": 270,
     "metadata": {},
     "output_type": "execute_result"
    }
   ],
   "source": [
    "cf_matrix = confusion_matrix(y_test, preds) \n",
    "cf_matrix"
   ]
  },
  {
   "cell_type": "code",
   "execution_count": 271,
   "id": "1717fed9",
   "metadata": {},
   "outputs": [
    {
     "data": {
      "image/png": "[encoded data removed]",
      "text/plain": [
       "<Figure size 432x288 with 2 Axes>"
      ]
     },
     "metadata": {
      "needs_background": "light"
     },
     "output_type": "display_data"
    }
   ],
   "source": [
    "ax = sns.heatmap(cf_matrix, annot=True, \n",
    "            fmt='1', cmap='rocket_r')\n",
    "\n",
    "ax.set_title('\\nConfusion Matrix\\n\\n');\n",
    "ax.set_xlabel('\\nPredicted Values\\n') \n",
    "ax.xaxis.set_label_position('top')\n",
    "ax.set_ylabel('Actual Values \\n');\n",
    "\n",
    "## Ticket labels - List must be in alphabetical order\n",
    "ax.xaxis.set_ticklabels([\"Doesn't have heart disease\" ,'Has heart disease'])\n",
    "ax.xaxis.tick_top() \n",
    "ax.yaxis.set_ticklabels([\"Doesn't have heart disease\" ,'Has heart disease'], rotation =0)\n",
    "\n",
    "## Display the visualization of the Confusion Matrix.\n",
    "plt.show()"
   ]
  },
  {
   "cell_type": "code",
   "execution_count": 272,
   "id": "d544c769",
   "metadata": {},
   "outputs": [
    {
     "data": {
      "text/plain": [
       "0.0339265850945495"
      ]
     },
     "execution_count": 272,
     "metadata": {},
     "output_type": "execute_result"
    }
   ],
   "source": [
    "recall_score(y_test, preds)"
   ]
  },
  {
   "cell_type": "code",
   "execution_count": 273,
   "id": "fc5cf239",
   "metadata": {},
   "outputs": [
    {
     "data": {
      "text/plain": [
       "0.9121434919608952"
      ]
     },
     "execution_count": 273,
     "metadata": {},
     "output_type": "execute_result"
    }
   ],
   "source": [
    "accuracy_score(y_test, preds)"
   ]
  },
  {
   "cell_type": "code",
   "execution_count": 274,
   "id": "c7f1eb65",
   "metadata": {},
   "outputs": [
    {
     "data": {
      "text/plain": [
       "0.4474327628361858"
      ]
     },
     "execution_count": 274,
     "metadata": {},
     "output_type": "execute_result"
    }
   ],
   "source": [
    "precision_score(y_test, preds)"
   ]
  },
  {
   "cell_type": "code",
   "execution_count": 275,
   "id": "1a6ab3d6",
   "metadata": {},
   "outputs": [],
   "source": [
    "preds = RandomForestPipeline.predict(X_test)"
   ]
  },
  {
   "cell_type": "code",
   "execution_count": 276,
   "id": "9928bad3",
   "metadata": {},
   "outputs": [
    {
     "data": {
      "image/png": "[encoded data removed]",
      "text/plain": [
       "<Figure size 432x288 with 2 Axes>"
      ]
     },
     "metadata": {
      "needs_background": "light"
     },
     "output_type": "display_data"
    }
   ],
   "source": [
    "cf_matrix = confusion_matrix(y_test, preds) \n",
    "\n",
    "ax = sns.heatmap(cf_matrix, annot=True, \n",
    "            fmt='1', cmap='rocket_r')\n",
    "\n",
    "ax.set_title('\\nConfusion Matrix\\n\\n');\n",
    "ax.set_xlabel('\\nPredicted Values\\n') \n",
    "ax.xaxis.set_label_position('top')\n",
    "ax.set_ylabel('Actual Values \\n');\n",
    "\n",
    "## Ticket labels - List must be in alphabetical order\n",
    "ax.xaxis.set_ticklabels([\"Doesn't have heart disease\" ,'Has heart disease'])\n",
    "ax.xaxis.tick_top() \n",
    "ax.yaxis.set_ticklabels([\"Doesn't have heart disease\" ,'Has heart disease'], rotation =0)\n",
    "\n",
    "## Display the visualization of the Confusion Matrix.\n",
    "plt.show()\n",
    "\n"
   ]
  },
  {
   "cell_type": "code",
   "execution_count": 277,
   "id": "1343ffc8",
   "metadata": {},
   "outputs": [
    {
     "data": {
      "text/plain": [
       "0.11624026696329255"
      ]
     },
     "execution_count": 277,
     "metadata": {},
     "output_type": "execute_result"
    }
   ],
   "source": [
    "recall_score(y_test, preds)\n"
   ]
  },
  {
   "cell_type": "code",
   "execution_count": 278,
   "id": "7f011a73",
   "metadata": {},
   "outputs": [
    {
     "data": {
      "text/plain": [
       "0.8949018340470227"
      ]
     },
     "execution_count": 278,
     "metadata": {},
     "output_type": "execute_result"
    }
   ],
   "source": [
    "accuracy_score(y_test, preds)"
   ]
  },
  {
   "cell_type": "code",
   "execution_count": 279,
   "id": "3a4d652d",
   "metadata": {},
   "outputs": [
    {
     "data": {
      "text/plain": [
       "0.2652284263959391"
      ]
     },
     "execution_count": 279,
     "metadata": {},
     "output_type": "execute_result"
    }
   ],
   "source": [
    "precision_score(y_test, preds)"
   ]
  },
  {
   "cell_type": "markdown",
   "id": "0fe05181",
   "metadata": {},
   "source": [
    "# Trying the heirarchial clustering"
   ]
  },
  {
   "cell_type": "code",
   "execution_count": 280,
   "id": "e08b29c2",
   "metadata": {},
   "outputs": [
    {
     "data": {
      "text/html": [
       "<div>\n",
       "<style scoped>\n",
       "    .dataframe tbody tr th:only-of-type {\n",
       "        vertical-align: middle;\n",
       "    }\n",
       "\n",
       "    .dataframe tbody tr th {\n",
       "        vertical-align: top;\n",
       "    }\n",
       "\n",
       "    .dataframe thead th {\n",
       "        text-align: right;\n",
       "    }\n",
       "</style>\n",
       "<table border=\"1\" class=\"dataframe\">\n",
       "  <thead>\n",
       "    <tr style=\"text-align: right;\">\n",
       "      <th></th>\n",
       "      <th>HeartDisease</th>\n",
       "      <th>BMI</th>\n",
       "      <th>Stroke</th>\n",
       "      <th>PhysicalHealth</th>\n",
       "      <th>MentalHealth</th>\n",
       "      <th>DiffWalking</th>\n",
       "      <th>Age</th>\n",
       "      <th>Diabetic</th>\n",
       "      <th>PhysicalActivity</th>\n",
       "      <th>SleepTime</th>\n",
       "      <th>Asthma</th>\n",
       "      <th>KidneyDisease</th>\n",
       "      <th>SkinCancer</th>\n",
       "      <th>Smokes</th>\n",
       "      <th>DrinksAlcohol</th>\n",
       "    </tr>\n",
       "  </thead>\n",
       "  <tbody>\n",
       "    <tr>\n",
       "      <th>0</th>\n",
       "      <td>0.000000</td>\n",
       "      <td>0.245326</td>\n",
       "      <td>0.000000</td>\n",
       "      <td>0.044336</td>\n",
       "      <td>0.44336</td>\n",
       "      <td>0.000000</td>\n",
       "      <td>0.857163</td>\n",
       "      <td>0.014779</td>\n",
       "      <td>0.014779</td>\n",
       "      <td>0.073893</td>\n",
       "      <td>0.014779</td>\n",
       "      <td>0.0</td>\n",
       "      <td>0.014779</td>\n",
       "      <td>0.014779</td>\n",
       "      <td>0.0</td>\n",
       "    </tr>\n",
       "    <tr>\n",
       "      <th>1</th>\n",
       "      <td>0.000000</td>\n",
       "      <td>0.239867</td>\n",
       "      <td>0.011793</td>\n",
       "      <td>0.000000</td>\n",
       "      <td>0.00000</td>\n",
       "      <td>0.000000</td>\n",
       "      <td>0.967015</td>\n",
       "      <td>0.000000</td>\n",
       "      <td>0.011793</td>\n",
       "      <td>0.084067</td>\n",
       "      <td>0.000000</td>\n",
       "      <td>0.0</td>\n",
       "      <td>0.000000</td>\n",
       "      <td>0.000000</td>\n",
       "      <td>0.0</td>\n",
       "    </tr>\n",
       "    <tr>\n",
       "      <th>2</th>\n",
       "      <td>0.000000</td>\n",
       "      <td>0.331461</td>\n",
       "      <td>0.000000</td>\n",
       "      <td>0.249406</td>\n",
       "      <td>0.37411</td>\n",
       "      <td>0.000000</td>\n",
       "      <td>0.823041</td>\n",
       "      <td>0.012470</td>\n",
       "      <td>0.012470</td>\n",
       "      <td>0.099763</td>\n",
       "      <td>0.012470</td>\n",
       "      <td>0.0</td>\n",
       "      <td>0.000000</td>\n",
       "      <td>0.012470</td>\n",
       "      <td>0.0</td>\n",
       "    </tr>\n",
       "    <tr>\n",
       "      <th>3</th>\n",
       "      <td>0.000000</td>\n",
       "      <td>0.292215</td>\n",
       "      <td>0.000000</td>\n",
       "      <td>0.000000</td>\n",
       "      <td>0.00000</td>\n",
       "      <td>0.000000</td>\n",
       "      <td>0.953530</td>\n",
       "      <td>0.000000</td>\n",
       "      <td>0.000000</td>\n",
       "      <td>0.072420</td>\n",
       "      <td>0.000000</td>\n",
       "      <td>0.0</td>\n",
       "      <td>0.012070</td>\n",
       "      <td>0.000000</td>\n",
       "      <td>0.0</td>\n",
       "    </tr>\n",
       "    <tr>\n",
       "      <th>4</th>\n",
       "      <td>0.000000</td>\n",
       "      <td>0.426314</td>\n",
       "      <td>0.000000</td>\n",
       "      <td>0.503450</td>\n",
       "      <td>0.00000</td>\n",
       "      <td>0.017980</td>\n",
       "      <td>0.737195</td>\n",
       "      <td>0.000000</td>\n",
       "      <td>0.017980</td>\n",
       "      <td>0.143843</td>\n",
       "      <td>0.000000</td>\n",
       "      <td>0.0</td>\n",
       "      <td>0.000000</td>\n",
       "      <td>0.000000</td>\n",
       "      <td>0.0</td>\n",
       "    </tr>\n",
       "    <tr>\n",
       "      <th>...</th>\n",
       "      <td>...</td>\n",
       "      <td>...</td>\n",
       "      <td>...</td>\n",
       "      <td>...</td>\n",
       "      <td>...</td>\n",
       "      <td>...</td>\n",
       "      <td>...</td>\n",
       "      <td>...</td>\n",
       "      <td>...</td>\n",
       "      <td>...</td>\n",
       "      <td>...</td>\n",
       "      <td>...</td>\n",
       "      <td>...</td>\n",
       "      <td>...</td>\n",
       "      <td>...</td>\n",
       "    </tr>\n",
       "    <tr>\n",
       "      <th>309417</th>\n",
       "      <td>0.014232</td>\n",
       "      <td>0.390089</td>\n",
       "      <td>0.000000</td>\n",
       "      <td>0.099621</td>\n",
       "      <td>0.00000</td>\n",
       "      <td>0.014232</td>\n",
       "      <td>0.910825</td>\n",
       "      <td>0.014232</td>\n",
       "      <td>0.000000</td>\n",
       "      <td>0.085390</td>\n",
       "      <td>0.014232</td>\n",
       "      <td>0.0</td>\n",
       "      <td>0.000000</td>\n",
       "      <td>0.014232</td>\n",
       "      <td>0.0</td>\n",
       "    </tr>\n",
       "    <tr>\n",
       "      <th>309418</th>\n",
       "      <td>0.000000</td>\n",
       "      <td>0.475184</td>\n",
       "      <td>0.000000</td>\n",
       "      <td>0.000000</td>\n",
       "      <td>0.00000</td>\n",
       "      <td>0.000000</td>\n",
       "      <td>0.875842</td>\n",
       "      <td>0.000000</td>\n",
       "      <td>0.015924</td>\n",
       "      <td>0.079622</td>\n",
       "      <td>0.015924</td>\n",
       "      <td>0.0</td>\n",
       "      <td>0.000000</td>\n",
       "      <td>0.015924</td>\n",
       "      <td>0.0</td>\n",
       "    </tr>\n",
       "    <tr>\n",
       "      <th>309419</th>\n",
       "      <td>0.000000</td>\n",
       "      <td>0.440685</td>\n",
       "      <td>0.000000</td>\n",
       "      <td>0.000000</td>\n",
       "      <td>0.00000</td>\n",
       "      <td>0.000000</td>\n",
       "      <td>0.890824</td>\n",
       "      <td>0.000000</td>\n",
       "      <td>0.018180</td>\n",
       "      <td>0.109080</td>\n",
       "      <td>0.000000</td>\n",
       "      <td>0.0</td>\n",
       "      <td>0.000000</td>\n",
       "      <td>0.000000</td>\n",
       "      <td>0.0</td>\n",
       "    </tr>\n",
       "    <tr>\n",
       "      <th>309420</th>\n",
       "      <td>0.000000</td>\n",
       "      <td>0.743096</td>\n",
       "      <td>0.000000</td>\n",
       "      <td>0.000000</td>\n",
       "      <td>0.00000</td>\n",
       "      <td>0.000000</td>\n",
       "      <td>0.611509</td>\n",
       "      <td>0.000000</td>\n",
       "      <td>0.000000</td>\n",
       "      <td>0.271782</td>\n",
       "      <td>0.000000</td>\n",
       "      <td>0.0</td>\n",
       "      <td>0.000000</td>\n",
       "      <td>0.000000</td>\n",
       "      <td>0.0</td>\n",
       "    </tr>\n",
       "    <tr>\n",
       "      <th>309421</th>\n",
       "      <td>0.000000</td>\n",
       "      <td>0.491967</td>\n",
       "      <td>0.000000</td>\n",
       "      <td>0.000000</td>\n",
       "      <td>0.00000</td>\n",
       "      <td>0.000000</td>\n",
       "      <td>0.866436</td>\n",
       "      <td>0.000000</td>\n",
       "      <td>0.010566</td>\n",
       "      <td>0.084530</td>\n",
       "      <td>0.000000</td>\n",
       "      <td>0.0</td>\n",
       "      <td>0.000000</td>\n",
       "      <td>0.000000</td>\n",
       "      <td>0.0</td>\n",
       "    </tr>\n",
       "  </tbody>\n",
       "</table>\n",
       "<p>309422 rows × 15 columns</p>\n",
       "</div>"
      ],
      "text/plain": [
       "        HeartDisease       BMI    Stroke  PhysicalHealth  MentalHealth  \\\n",
       "0           0.000000  0.245326  0.000000        0.044336       0.44336   \n",
       "1           0.000000  0.239867  0.011793        0.000000       0.00000   \n",
       "2           0.000000  0.331461  0.000000        0.249406       0.37411   \n",
       "3           0.000000  0.292215  0.000000        0.000000       0.00000   \n",
       "4           0.000000  0.426314  0.000000        0.503450       0.00000   \n",
       "...              ...       ...       ...             ...           ...   \n",
       "309417      0.014232  0.390089  0.000000        0.099621       0.00000   \n",
       "309418      0.000000  0.475184  0.000000        0.000000       0.00000   \n",
       "309419      0.000000  0.440685  0.000000        0.000000       0.00000   \n",
       "309420      0.000000  0.743096  0.000000        0.000000       0.00000   \n",
       "309421      0.000000  0.491967  0.000000        0.000000       0.00000   \n",
       "\n",
       "        DiffWalking       Age  Diabetic  PhysicalActivity  SleepTime  \\\n",
       "0          0.000000  0.857163  0.014779          0.014779   0.073893   \n",
       "1          0.000000  0.967015  0.000000          0.011793   0.084067   \n",
       "2          0.000000  0.823041  0.012470          0.012470   0.099763   \n",
       "3          0.000000  0.953530  0.000000          0.000000   0.072420   \n",
       "4          0.017980  0.737195  0.000000          0.017980   0.143843   \n",
       "...             ...       ...       ...               ...        ...   \n",
       "309417     0.014232  0.910825  0.014232          0.000000   0.085390   \n",
       "309418     0.000000  0.875842  0.000000          0.015924   0.079622   \n",
       "309419     0.000000  0.890824  0.000000          0.018180   0.109080   \n",
       "309420     0.000000  0.611509  0.000000          0.000000   0.271782   \n",
       "309421     0.000000  0.866436  0.000000          0.010566   0.084530   \n",
       "\n",
       "          Asthma  KidneyDisease  SkinCancer    Smokes  DrinksAlcohol  \n",
       "0       0.014779            0.0    0.014779  0.014779            0.0  \n",
       "1       0.000000            0.0    0.000000  0.000000            0.0  \n",
       "2       0.012470            0.0    0.000000  0.012470            0.0  \n",
       "3       0.000000            0.0    0.012070  0.000000            0.0  \n",
       "4       0.000000            0.0    0.000000  0.000000            0.0  \n",
       "...          ...            ...         ...       ...            ...  \n",
       "309417  0.014232            0.0    0.000000  0.014232            0.0  \n",
       "309418  0.015924            0.0    0.000000  0.015924            0.0  \n",
       "309419  0.000000            0.0    0.000000  0.000000            0.0  \n",
       "309420  0.000000            0.0    0.000000  0.000000            0.0  \n",
       "309421  0.000000            0.0    0.000000  0.000000            0.0  \n",
       "\n",
       "[309422 rows x 15 columns]"
      ]
     },
     "execution_count": 280,
     "metadata": {},
     "output_type": "execute_result"
    }
   ],
   "source": [
    "from sklearn.preprocessing import normalize\n",
    "numbersOnlyData = df.drop(columns =['Race', 'GenHealth','Sex'])\n",
    "data_scaled = normalize(numbersOnlyData)\n",
    "data_scaled = pd.DataFrame(data_scaled, columns=numbersOnlyData.columns)\n",
    "data_scaled"
   ]
  },
  {
   "cell_type": "code",
   "execution_count": 281,
   "id": "550d5f90",
   "metadata": {},
   "outputs": [
    {
     "ename": "MemoryError",
     "evalue": "Unable to allocate 357. GiB for an array with shape (47870832331,) and data type float64",
     "output_type": "error",
     "traceback": [
      "\u001b[1;31m---------------------------------------------------------------------------\u001b[0m",
      "\u001b[1;31mMemoryError\u001b[0m                               Traceback (most recent call last)",
      "\u001b[1;32m<ipython-input-281-135e2259c0f0>\u001b[0m in \u001b[0;36m<module>\u001b[1;34m\u001b[0m\n\u001b[0;32m      2\u001b[0m \u001b[0mplt\u001b[0m\u001b[1;33m.\u001b[0m\u001b[0mfigure\u001b[0m\u001b[1;33m(\u001b[0m\u001b[0mfigsize\u001b[0m\u001b[1;33m=\u001b[0m\u001b[1;33m(\u001b[0m\u001b[1;36m10\u001b[0m\u001b[1;33m,\u001b[0m \u001b[1;36m7\u001b[0m\u001b[1;33m)\u001b[0m\u001b[1;33m)\u001b[0m\u001b[1;33m\u001b[0m\u001b[1;33m\u001b[0m\u001b[0m\n\u001b[0;32m      3\u001b[0m \u001b[0mplt\u001b[0m\u001b[1;33m.\u001b[0m\u001b[0mtitle\u001b[0m\u001b[1;33m(\u001b[0m\u001b[1;34m\"Dendrograms\"\u001b[0m\u001b[1;33m)\u001b[0m\u001b[1;33m\u001b[0m\u001b[1;33m\u001b[0m\u001b[0m\n\u001b[1;32m----> 4\u001b[1;33m \u001b[0mdend\u001b[0m \u001b[1;33m=\u001b[0m \u001b[0mshc\u001b[0m\u001b[1;33m.\u001b[0m\u001b[0mdendrogram\u001b[0m\u001b[1;33m(\u001b[0m\u001b[0mshc\u001b[0m\u001b[1;33m.\u001b[0m\u001b[0mlinkage\u001b[0m\u001b[1;33m(\u001b[0m\u001b[0mdata_scaled\u001b[0m\u001b[1;33m,\u001b[0m \u001b[0mmethod\u001b[0m\u001b[1;33m=\u001b[0m\u001b[1;34m'ward'\u001b[0m\u001b[1;33m)\u001b[0m\u001b[1;33m)\u001b[0m\u001b[1;33m\u001b[0m\u001b[1;33m\u001b[0m\u001b[0m\n\u001b[0m",
      "\u001b[1;32mD:\\Program Files (x86)\\anaconda3\\lib\\site-packages\\scipy\\cluster\\hierarchy.py\u001b[0m in \u001b[0;36mlinkage\u001b[1;34m(y, method, metric, optimal_ordering)\u001b[0m\n\u001b[0;32m   1058\u001b[0m                          \u001b[1;34m'matrix looks suspiciously like an uncondensed '\u001b[0m\u001b[1;33m\u001b[0m\u001b[1;33m\u001b[0m\u001b[0m\n\u001b[0;32m   1059\u001b[0m                          'distance matrix')\n\u001b[1;32m-> 1060\u001b[1;33m         \u001b[0my\u001b[0m \u001b[1;33m=\u001b[0m \u001b[0mdistance\u001b[0m\u001b[1;33m.\u001b[0m\u001b[0mpdist\u001b[0m\u001b[1;33m(\u001b[0m\u001b[0my\u001b[0m\u001b[1;33m,\u001b[0m \u001b[0mmetric\u001b[0m\u001b[1;33m)\u001b[0m\u001b[1;33m\u001b[0m\u001b[1;33m\u001b[0m\u001b[0m\n\u001b[0m\u001b[0;32m   1061\u001b[0m     \u001b[1;32melse\u001b[0m\u001b[1;33m:\u001b[0m\u001b[1;33m\u001b[0m\u001b[1;33m\u001b[0m\u001b[0m\n\u001b[0;32m   1062\u001b[0m         \u001b[1;32mraise\u001b[0m \u001b[0mValueError\u001b[0m\u001b[1;33m(\u001b[0m\u001b[1;34m\"`y` must be 1 or 2 dimensional.\"\u001b[0m\u001b[1;33m)\u001b[0m\u001b[1;33m\u001b[0m\u001b[1;33m\u001b[0m\u001b[0m\n",
      "\u001b[1;32mD:\\Program Files (x86)\\anaconda3\\lib\\site-packages\\scipy\\spatial\\distance.py\u001b[0m in \u001b[0;36mpdist\u001b[1;34m(X, metric, *args, **kwargs)\u001b[0m\n\u001b[0;32m   2021\u001b[0m     \u001b[0mout\u001b[0m \u001b[1;33m=\u001b[0m \u001b[0mkwargs\u001b[0m\u001b[1;33m.\u001b[0m\u001b[0mpop\u001b[0m\u001b[1;33m(\u001b[0m\u001b[1;34m\"out\"\u001b[0m\u001b[1;33m,\u001b[0m \u001b[1;32mNone\u001b[0m\u001b[1;33m)\u001b[0m\u001b[1;33m\u001b[0m\u001b[1;33m\u001b[0m\u001b[0m\n\u001b[0;32m   2022\u001b[0m     \u001b[1;32mif\u001b[0m \u001b[0mout\u001b[0m \u001b[1;32mis\u001b[0m \u001b[1;32mNone\u001b[0m\u001b[1;33m:\u001b[0m\u001b[1;33m\u001b[0m\u001b[1;33m\u001b[0m\u001b[0m\n\u001b[1;32m-> 2023\u001b[1;33m         \u001b[0mdm\u001b[0m \u001b[1;33m=\u001b[0m \u001b[0mnp\u001b[0m\u001b[1;33m.\u001b[0m\u001b[0mempty\u001b[0m\u001b[1;33m(\u001b[0m\u001b[1;33m(\u001b[0m\u001b[0mm\u001b[0m \u001b[1;33m*\u001b[0m \u001b[1;33m(\u001b[0m\u001b[0mm\u001b[0m \u001b[1;33m-\u001b[0m \u001b[1;36m1\u001b[0m\u001b[1;33m)\u001b[0m\u001b[1;33m)\u001b[0m \u001b[1;33m//\u001b[0m \u001b[1;36m2\u001b[0m\u001b[1;33m,\u001b[0m \u001b[0mdtype\u001b[0m\u001b[1;33m=\u001b[0m\u001b[0mnp\u001b[0m\u001b[1;33m.\u001b[0m\u001b[0mdouble\u001b[0m\u001b[1;33m)\u001b[0m\u001b[1;33m\u001b[0m\u001b[1;33m\u001b[0m\u001b[0m\n\u001b[0m\u001b[0;32m   2024\u001b[0m     \u001b[1;32melse\u001b[0m\u001b[1;33m:\u001b[0m\u001b[1;33m\u001b[0m\u001b[1;33m\u001b[0m\u001b[0m\n\u001b[0;32m   2025\u001b[0m         \u001b[1;32mif\u001b[0m \u001b[0mout\u001b[0m\u001b[1;33m.\u001b[0m\u001b[0mshape\u001b[0m \u001b[1;33m!=\u001b[0m \u001b[1;33m(\u001b[0m\u001b[0mm\u001b[0m \u001b[1;33m*\u001b[0m \u001b[1;33m(\u001b[0m\u001b[0mm\u001b[0m \u001b[1;33m-\u001b[0m \u001b[1;36m1\u001b[0m\u001b[1;33m)\u001b[0m \u001b[1;33m//\u001b[0m \u001b[1;36m2\u001b[0m\u001b[1;33m,\u001b[0m\u001b[1;33m)\u001b[0m\u001b[1;33m:\u001b[0m\u001b[1;33m\u001b[0m\u001b[1;33m\u001b[0m\u001b[0m\n",
      "\u001b[1;31mMemoryError\u001b[0m: Unable to allocate 357. GiB for an array with shape (47870832331,) and data type float64"
     ]
    },
    {
     "data": {
      "image/png": "[encoded data removed]",
      "text/plain": [
       "<Figure size 720x504 with 1 Axes>"
      ]
     },
     "metadata": {
      "needs_background": "light"
     },
     "output_type": "display_data"
    }
   ],
   "source": [
    "import scipy.cluster.hierarchy as shc\n",
    "plt.figure(figsize=(10, 7))  \n",
    "plt.title(\"Dendrograms\")  \n",
    "dend = shc.dendrogram(shc.linkage(data_scaled, method='ward'))"
   ]
  },
  {
   "cell_type": "code",
   "execution_count": null,
   "id": "99e6ec73",
   "metadata": {},
   "outputs": [],
   "source": [
    "#MemoryError: Unable to allocate 357. GiB for an array with shape (47870832331,) and data type float64\n",
    "#nvm lol"
   ]
  },
  {
   "cell_type": "markdown",
   "id": "979b60d3",
   "metadata": {},
   "source": [
    "# Asking questions"
   ]
  },
  {
   "cell_type": "markdown",
   "id": "2d4b5d84",
   "metadata": {},
   "source": [
    "## Is there a relation between age, drinking and heart diseases?"
   ]
  },
  {
   "cell_type": "code",
   "execution_count": 349,
   "id": "dd6ca444",
   "metadata": {},
   "outputs": [],
   "source": [
    "sns.set_style('dark')"
   ]
  },
  {
   "cell_type": "code",
   "execution_count": 352,
   "id": "9e4d066e",
   "metadata": {},
   "outputs": [
    {
     "data": {
      "text/plain": [
       "Text(0.5, 0.98, 'Relation between age, drinking and heart diseases')"
      ]
     },
     "execution_count": 352,
     "metadata": {},
     "output_type": "execute_result"
    },
    {
     "data": {
      "image/png": "[encoded data removed]",
      "text/plain": [
       "<Figure size 657.8x360 with 2 Axes>"
      ]
     },
     "metadata": {},
     "output_type": "display_data"
    }
   ],
   "source": [
    "graph = sns.catplot(x=\"HeartDisease\", y=\"Age\",\n",
    "                hue=\"DrinksAlcohol\", col=\"Sex\",\n",
    "                data=df, kind=\"violin\",\n",
    "                dodge=True,\n",
    "                height=5, aspect=.8, palette = 'rocket_r');\n",
    "graph.fig.subplots_adjust(top=0.89)\n",
    "graph.fig.suptitle('Relation between age, drinking and heart diseases')\n"
   ]
  },
  {
   "cell_type": "markdown",
   "id": "5d1b6eb1",
   "metadata": {},
   "source": [
    "## Is there a relation between age, smoking and heart diseases?"
   ]
  },
  {
   "cell_type": "code",
   "execution_count": 344,
   "id": "df25b9e1",
   "metadata": {},
   "outputs": [
    {
     "data": {
      "text/plain": [
       "Text(0.5, 0.98, 'Relation between age, smoking and heart diseases')"
      ]
     },
     "execution_count": 344,
     "metadata": {},
     "output_type": "execute_result"
    },
    {
     "data": {
      "image/png": "[encoded data removed]",
      "text/plain": [
       "<Figure size 642.35x360 with 2 Axes>"
      ]
     },
     "metadata": {},
     "output_type": "display_data"
    }
   ],
   "source": [
    "graph = sns.catplot(x=\"HeartDisease\", y=\"Age\",\n",
    "                hue=\"Smokes\", col=\"Sex\",\n",
    "                data=df, kind=\"violin\",\n",
    "                dodge=True,\n",
    "                height=5, aspect=.8, palette = 'rocket_r');\n",
    "graph.fig.subplots_adjust(top=0.89)\n",
    "graph.fig.suptitle('Relation between age, smoking and heart diseases')\n"
   ]
  },
  {
   "cell_type": "markdown",
   "id": "ff22b1c7",
   "metadata": {},
   "source": [
    "## Does physical activity change with age, and having a heart disease?"
   ]
  },
  {
   "cell_type": "code",
   "execution_count": 358,
   "id": "09db773c",
   "metadata": {
    "scrolled": true
   },
   "outputs": [
    {
     "data": {
      "image/png": "[encoded data removed]",
      "text/plain": [
       "<Figure size 432x288 with 1 Axes>"
      ]
     },
     "metadata": {},
     "output_type": "display_data"
    }
   ],
   "source": [
    "graph = sns.lineplot(x = \"Age\" , y = \"PhysicalActivity\" \n",
    "                     , hue = \"HeartDisease\" , data = df , ci = None , markers = True, palette = 'mako')"
   ]
  },
  {
   "cell_type": "markdown",
   "id": "c236ed3b",
   "metadata": {},
   "source": [
    "## What about physical health?"
   ]
  },
  {
   "cell_type": "code",
   "execution_count": 359,
   "id": "eb369061",
   "metadata": {},
   "outputs": [
    {
     "data": {
      "image/png": "[encoded data removed]",
      "text/plain": [
       "<Figure size 432x288 with 1 Axes>"
      ]
     },
     "metadata": {},
     "output_type": "display_data"
    }
   ],
   "source": [
    "graph = sns.lineplot(x = \"Age\" , y = \"PhysicalHealth\" \n",
    "                     , hue = \"HeartDisease\" , data = df , ci = None , markers = True, palette = 'mako')"
   ]
  },
  {
   "cell_type": "markdown",
   "id": "39571cdd",
   "metadata": {},
   "source": [
    "## Which race expreinces the most amount of heart disease? "
   ]
  },
  {
   "cell_type": "code",
   "execution_count": 421,
   "id": "31d794af",
   "metadata": {},
   "outputs": [
    {
     "data": {
      "text/plain": [
       "Text(0.5, 1.0, 'Relation between heart diseases and race')"
      ]
     },
     "execution_count": 421,
     "metadata": {},
     "output_type": "execute_result"
    },
    {
     "data": {
      "image/png": "[encoded data removed]",
      "text/plain": [
       "<Figure size 1008x648 with 1 Axes>"
      ]
     },
     "metadata": {},
     "output_type": "display_data"
    }
   ],
   "source": [
    "topRaces = df.groupby(\"Race\")[\"HeartDisease\"].mean()\n",
    "plt.figure(figsize=(14,9))\n",
    "sns.barplot(x = topRaces , y = df[\"Race\"].unique()).set_title(\"Relation between heart diseases and race\")"
   ]
  },
  {
   "cell_type": "code",
   "execution_count": 377,
   "id": "9b57fda0",
   "metadata": {},
   "outputs": [
    {
     "data": {
      "text/plain": [
       "White                             235219\n",
       "Hispanic                           27224\n",
       "Black                              22850\n",
       "Other                              10908\n",
       "Asian                               8028\n",
       "American Indian/Alaskan Native      5193\n",
       "Name: Race, dtype: int64"
      ]
     },
     "execution_count": 377,
     "metadata": {},
     "output_type": "execute_result"
    }
   ],
   "source": [
    "df['Race'].value_counts()"
   ]
  },
  {
   "cell_type": "markdown",
   "id": "e69c0f71",
   "metadata": {},
   "source": [
    "## Is there a relation between BMI and race?"
   ]
  },
  {
   "cell_type": "code",
   "execution_count": 396,
   "id": "37cf8b47",
   "metadata": {},
   "outputs": [
    {
     "data": {
      "text/plain": [
       "Text(0.5, 1.0, 'Relation between BMI and race')"
      ]
     },
     "execution_count": 396,
     "metadata": {},
     "output_type": "execute_result"
    },
    {
     "data": {
      "image/png": "[encoded data removed]",
      "text/plain": [
       "<Figure size 720x504 with 1 Axes>"
      ]
     },
     "metadata": {},
     "output_type": "display_data"
    }
   ],
   "source": [
    "sns.set_theme(style=\"whitegrid\")\n",
    "topRaces = df.groupby(\"Race\")[\"BMI\"].mean()\n",
    "plt.figure(figsize=(10,7))\n",
    "sns.barplot(y = topRaces , x = df[\"Race\"].unique(), palette ='Blues_d').set_title(\"Relation between BMI and race\")"
   ]
  },
  {
   "cell_type": "markdown",
   "id": "0169fe6e",
   "metadata": {},
   "source": [
    "## Is diabetes related to heart disease?"
   ]
  },
  {
   "cell_type": "code",
   "execution_count": 401,
   "id": "8a46f9b9",
   "metadata": {
    "scrolled": true
   },
   "outputs": [
    {
     "data": {
      "text/plain": [
       "Text(0.5, 0.98, 'Number of people with diabetes and heart disease')"
      ]
     },
     "execution_count": 401,
     "metadata": {},
     "output_type": "execute_result"
    },
    {
     "data": {
      "text/plain": [
       "<Figure size 864x504 with 0 Axes>"
      ]
     },
     "metadata": {},
     "output_type": "display_data"
    },
    {
     "data": {
      "image/png": "[encoded data removed]",
      "text/plain": [
       "<Figure size 411.95x432 with 1 Axes>"
      ]
     },
     "metadata": {},
     "output_type": "display_data"
    }
   ],
   "source": [
    "#using count plot.\n",
    "plt.figure(figsize=(12,7))\n",
    "sns.set_theme(style=\"darkgrid\")\n",
    "graph = sns.catplot(data = df , x=\"HeartDisease\",\n",
    "             hue = 'Diabetic', kind=\"count\",\n",
    "                dodge=True,\n",
    "                height=6, aspect=.8,)\n",
    "graph.fig.subplots_adjust(top=0.89)\n",
    "graph.fig.suptitle(\"Number of people with diabetes and heart disease\")"
   ]
  },
  {
   "cell_type": "markdown",
   "id": "5eccfb33",
   "metadata": {},
   "source": [
    "## The number of people who have had heart disease and experienced strokes."
   ]
  },
  {
   "cell_type": "code",
   "execution_count": 404,
   "id": "ca6ca2a0",
   "metadata": {},
   "outputs": [
    {
     "data": {
      "text/plain": [
       "Text(0.5, 0.98, 'Number of people who have had heart disease and experienced strokes')"
      ]
     },
     "execution_count": 404,
     "metadata": {},
     "output_type": "execute_result"
    },
    {
     "data": {
      "text/plain": [
       "<Figure size 864x504 with 0 Axes>"
      ]
     },
     "metadata": {},
     "output_type": "display_data"
    },
    {
     "data": {
      "image/png": "[encoded data removed]",
      "text/plain": [
       "<Figure size 411.95x432 with 1 Axes>"
      ]
     },
     "metadata": {},
     "output_type": "display_data"
    }
   ],
   "source": [
    "#using count plot.\n",
    "plt.figure(figsize=(12,7))\n",
    "sns.set_theme(style=\"darkgrid\")\n",
    "graph = sns.catplot(data = df , x=\"Diabetic\",\n",
    "             hue = 'Stroke', kind=\"count\",\n",
    "                dodge=True,\n",
    "                height=6, aspect=.8,)\n",
    "graph.fig.subplots_adjust(top=0.89)\n",
    "graph.fig.suptitle(\"Number of people who have had heart disease and experienced strokes\")"
   ]
  },
  {
   "cell_type": "markdown",
   "id": "264f01c8",
   "metadata": {},
   "source": [
    "## Does sleep time really affect the probability of having a stroke?"
   ]
  },
  {
   "cell_type": "code",
   "execution_count": 405,
   "id": "81df7202",
   "metadata": {},
   "outputs": [
    {
     "data": {
      "text/plain": [
       "Text(0.5, 1.0, 'The relationship between strokes and sleeptime')"
      ]
     },
     "execution_count": 405,
     "metadata": {},
     "output_type": "execute_result"
    },
    {
     "data": {
      "image/png": "[encoded data removed]",
      "text/plain": [
       "<Figure size 864x504 with 1 Axes>"
      ]
     },
     "metadata": {},
     "output_type": "display_data"
    }
   ],
   "source": [
    "#using point plot.\n",
    "plt.figure(figsize=(12,7))\n",
    "sns.set_theme(style=\"darkgrid\")\n",
    "sns.pointplot(x=\"Stroke\" , y = \"SleepTime\", data = df).set_title(\"The relationship between strokes and sleeptime\")"
   ]
  },
  {
   "cell_type": "markdown",
   "id": "2e3bbc23",
   "metadata": {},
   "source": [
    "## Do people feel less healthy as they age?"
   ]
  },
  {
   "cell_type": "code",
   "execution_count": 408,
   "id": "3d966186",
   "metadata": {},
   "outputs": [
    {
     "data": {
      "text/plain": [
       "Text(0.5, 1.0, 'Relation between general health and age')"
      ]
     },
     "execution_count": 408,
     "metadata": {},
     "output_type": "execute_result"
    },
    {
     "data": {
      "image/png": "[encoded data removed]",
      "text/plain": [
       "<Figure size 720x504 with 1 Axes>"
      ]
     },
     "metadata": {},
     "output_type": "display_data"
    }
   ],
   "source": [
    "sns.set_theme(style=\"whitegrid\")\n",
    "topRaces = df.groupby(\"GenHealth\")[\"Age\"].mean()\n",
    "plt.figure(figsize=(10,7))\n",
    "order = ['Poor','Fair','Good','Very good','Excellent']\n",
    "sns.barplot(y = topRaces , x = df[\"GenHealth\"].unique(), palette ='Blues_d', order = order\n",
    "           ).set_title(\"Relation between general health and age\")"
   ]
  },
  {
   "cell_type": "markdown",
   "id": "a065eadd",
   "metadata": {},
   "source": [
    "## Number of people with asthma and how much of them smoke."
   ]
  },
  {
   "cell_type": "code",
   "execution_count": 420,
   "id": "0e382cf7",
   "metadata": {},
   "outputs": [
    {
     "data": {
      "text/plain": [
       "Text(0.5, 0.98, 'Number of people with and without asthma who smoke')"
      ]
     },
     "execution_count": 420,
     "metadata": {},
     "output_type": "execute_result"
    },
    {
     "data": {
      "text/plain": [
       "<Figure size 864x504 with 0 Axes>"
      ]
     },
     "metadata": {},
     "output_type": "display_data"
    },
    {
     "data": {
      "image/png": "[encoded data removed]",
      "text/plain": [
       "<Figure size 757.55x432 with 2 Axes>"
      ]
     },
     "metadata": {},
     "output_type": "display_data"
    }
   ],
   "source": [
    "#using count plot.\n",
    "plt.figure(figsize=(12,7))\n",
    "sns.set_theme(style=\"whitegrid\")\n",
    "graph = sns.catplot(data = df , x=\"Sex\",\n",
    "             hue = 'Smokes', kind=\"count\", col ='Asthma',\n",
    "                dodge=True,\n",
    "                height=6, aspect=.8,palette = 'viridis')\n",
    "graph.fig.subplots_adjust(top=0.89)\n",
    "graph.fig.suptitle(\"Number of people with and without asthma who smoke\")"
   ]
  }
 ],
 "metadata": {
  "kernelspec": {
   "display_name": "Python 3",
   "language": "python",
   "name": "python3"
  },
  "language_info": {
   "codemirror_mode": {
    "name": "ipython",
    "version": 3
   },
   "file_extension": ".py",
   "mimetype": "text/x-python",
   "name": "python",
   "nbconvert_exporter": "python",
   "pygments_lexer": "ipython3",
   "version": "3.8.8"
  }
 },
 "nbformat": 4,
 "nbformat_minor": 5
}
